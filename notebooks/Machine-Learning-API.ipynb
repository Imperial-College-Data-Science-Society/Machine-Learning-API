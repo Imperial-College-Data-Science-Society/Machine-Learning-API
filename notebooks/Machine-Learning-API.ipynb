{
 "cells": [
  {
   "cell_type": "markdown",
   "metadata": {},
   "source": [
    "# Machine Learning API"
   ]
  },
  {
   "cell_type": "markdown",
   "metadata": {},
   "source": [
    "> ICDSS Machine Learning Workshop Series: Coding Models on `scikit-learn`, `keras` & `fbprophet`"
   ]
  },
  {
   "cell_type": "markdown",
   "metadata": {},
   "source": [
    "* [Pipeline](#pipeline)\n",
    "    * [Preprocessing](#pipe:preprocessing)\n",
    "    * [Estimation](#pipe:estimation)\n",
    "        * [Supervised Learning](#pipe:supervised-learning)\n",
    "        * [Unsupervised Learning](#pipe:unsupervised-learning)\n",
    "    * [Evaluation](#pipe:evaluation)\n",
    "* [`scikit-learn`](#scikit-learn)\n",
    "    * [Preprocessing](#sk:preprocessing)\n",
    "    * [Estimation](#sk:estimation)\n",
    "        * [Classifiers](#sk:classifiers)\n",
    "        * [Regressors](#sk:regressors)\n",
    "    * [Evaluation](#sk:evaluation)\n",
    "        * [Categorical Output](#sk:categorical-output)\n",
    "        * [Continuous Output](#sk:continous-output)\n",
    "    * [Model Selection](#sk:model-selection)\n",
    "        * [Hyperparameters](#sk:hyperparameters)\n",
    "        * [`GridSearchCV`](#sk:GridSearchCV)\n",
    "    * [Pipeline](#sk:pipeline)\n",
    "        * [Steps](#sk:steps)\n",
    "        * [Complete](#sk:complete)\n",
    "    * [`tpot`](#sk:tpot)\n",
    "* [`keras`](#keras)\n",
    "    * [Dense](#keras:dense)\n",
    "        * [Iris](#keras:iris)\n",
    "    * [CNN](#keras:cnn)\n",
    "        * [Fashion MNIST](#keras:fashion-mnist)\n",
    "    * [LSTM](#keras:lstm)\n",
    "        * [President Trump Generator](#keras:president-trump-generator)\n",
    "* [`fbprophet`](#fbprophet)\n",
    "    * [Bitcoin Capital Market](#fbprophet:bitcoin-capital-market)"
   ]
  },
  {
   "cell_type": "markdown",
   "metadata": {},
   "source": [
    "## Pipeline <a class=\"anchor\" id=\"pipeline\"></a>"
   ]
  },
  {
   "cell_type": "markdown",
   "metadata": {},
   "source": [
    "<img src=\"assets/Pipeline.png\" alt=\"Drawing\" style=\"width: 750px;\"/>"
   ]
  },
  {
   "cell_type": "markdown",
   "metadata": {},
   "source": [
    "### Preprocessing <a class=\"anchor\" id=\"pipe:preprocessing\"></a>"
   ]
  },
  {
   "cell_type": "markdown",
   "metadata": {},
   "source": [
    "TODO:\n",
    "- skeleton, comment methods\n",
    "- exercise: $(x_{1}, x_{2}) \\rightarrow (x_{1}, x_{2}, x_{1}x_{2}, x_{1}^{2}, x_{2}^{2})$ (~2min)"
   ]
  },
  {
   "cell_type": "code",
   "execution_count": null,
   "metadata": {},
   "outputs": [],
   "source": [
    "class Preprocessor:\n",
    "    \n",
    "    def __init__(self):\n",
    "        raise NotImplementedError\n",
    "    \n",
    "    def fit(self, X_train):\n",
    "        raise NotImplementedError\n",
    "    \n",
    "    def transform(self, X):\n",
    "        raise NotImplementedError\n",
    "    \n",
    "    def fit_transform(self, X):\n",
    "        self.fit(X)\n",
    "        return self.transform(X)"
   ]
  },
  {
   "cell_type": "markdown",
   "metadata": {},
   "source": [
    "### Estimation <a class=\"anchor\" id=\"pipe:estimation\"></a>"
   ]
  },
  {
   "cell_type": "markdown",
   "metadata": {},
   "source": [
    "TODO:\n",
    "- skeleton, comment methods\n",
    "- exercise: Linear Regression (~3min) given the $w_{MLE}$"
   ]
  },
  {
   "cell_type": "code",
   "execution_count": null,
   "metadata": {},
   "outputs": [],
   "source": [
    "class Estimator:\n",
    "    \n",
    "    def __init__(self, param_a, param_b):\n",
    "        self.param_a = param_a\n",
    "        self.param_c = param_b**2\n",
    "    \n",
    "    def fit(self, X_train, y_train):\n",
    "        return self\n",
    "    \n",
    "    def predict(self, X, y):\n",
    "        return X, y\n",
    "    \n",
    "    def score(self, X, y):\n",
    "        y_hat = self.predict(X)\n",
    "        return self._loss(y, y_hat)\n",
    "    \n",
    "    def _loss(self, y, y_hat):\n",
    "        return L(y, y_hat)"
   ]
  },
  {
   "cell_type": "markdown",
   "metadata": {},
   "source": [
    "### Evaluation <a class=\"anchor\" id=\"pipe:evaluation\"></a>"
   ]
  },
  {
   "cell_type": "markdown",
   "metadata": {},
   "source": [
    "TODO:\n",
    "- skeleton, comment methods\n",
    "- exercise: Elastic Net (~2 min) given the formula"
   ]
  },
  {
   "cell_type": "code",
   "execution_count": null,
   "metadata": {},
   "outputs": [],
   "source": [
    "class EvalEstimator(Estimator):\n",
    "    \n",
    "    def score(self, X, y):\n",
    "        y_hat = self.predict(X)\n",
    "        return self._loss(y, y_hat)\n",
    "    \n",
    "    def _loss(self, y, y_hat):\n",
    "        return L(y, y_hat)"
   ]
  },
  {
   "cell_type": "markdown",
   "metadata": {},
   "source": [
    "## `scikit-learn` <a class=\"anchor\" id=\"scikit-learn\"></a>"
   ]
  },
  {
   "cell_type": "markdown",
   "metadata": {},
   "source": [
    "### Preprocessing <a class=\"anchor\" id=\"sk:preprocessing\"></a>"
   ]
  },
  {
   "cell_type": "code",
   "execution_count": null,
   "metadata": {},
   "outputs": [],
   "source": []
  },
  {
   "cell_type": "markdown",
   "metadata": {},
   "source": [
    "### Estimation <a class=\"anchor\" id=\"sk:estimation\"></a>"
   ]
  },
  {
   "cell_type": "code",
   "execution_count": null,
   "metadata": {},
   "outputs": [],
   "source": []
  },
  {
   "cell_type": "markdown",
   "metadata": {},
   "source": [
    "### Model Selection <a class=\"anchor\" id=\"sk:model-selection\"></a>"
   ]
  },
  {
   "cell_type": "markdown",
   "metadata": {},
   "source": [
    "#### Hyperparameters <a class=\"anchor\" id=\"sk:hyperparameters\"></a>"
   ]
  },
  {
   "cell_type": "markdown",
   "metadata": {},
   "source": [
    "### Evaluation <a class=\"anchor\" id=\"sk:evaluation\"></a>"
   ]
  },
  {
   "cell_type": "code",
   "execution_count": null,
   "metadata": {},
   "outputs": [],
   "source": []
  },
  {
   "cell_type": "markdown",
   "metadata": {},
   "source": [
    "### `tpot` <a class=\"anchor\" id=\"sk:tpot\"></a>"
   ]
  },
  {
   "cell_type": "code",
   "execution_count": null,
   "metadata": {},
   "outputs": [],
   "source": []
  },
  {
   "cell_type": "markdown",
   "metadata": {},
   "source": [
    "## `keras` <a class=\"anchor\" id=\"keras\"></a>"
   ]
  },
  {
   "cell_type": "markdown",
   "metadata": {},
   "source": [
    "### Iris Dataset <a class=\"anchor\" id=\"keras:iris\"></a>"
   ]
  },
  {
   "cell_type": "code",
   "execution_count": 24,
   "metadata": {},
   "outputs": [],
   "source": [
    "%reset -f\n",
    "\n",
    "from keras.models import Model\n",
    "from keras.layers import Input\n",
    "from keras.layers import Dense\n",
    "from keras.layers import Activation\n",
    "from keras.optimizers import RMSprop\n",
    "from keras.utils import to_categorical\n",
    "\n",
    "import numpy as np\n",
    "import matplotlib.pyplot as plt\n",
    "import seaborn as sns\n",
    "\n",
    "from sklearn import datasets\n",
    "from sklearn.model_selection import train_test_split\n",
    "from sklearn.metrics import confusion_matrix"
   ]
  },
  {
   "cell_type": "markdown",
   "metadata": {},
   "source": [
    "#### Data & Preprocessing"
   ]
  },
  {
   "cell_type": "code",
   "execution_count": null,
   "metadata": {},
   "outputs": [],
   "source": [
    "# fetch data\n",
    "iris = datasets.load_iris()\n",
    "\n",
    "# split to train/test datasets\n",
    "X_train, X_test, y_train, y_test = train_test_split(iris.data, iris.target)\n",
    "# one-hot encode categorical output\n",
    "y_train_one_hot = to_categorical(y_train)\n",
    "y_test_one_hot = to_categorical(y_test)\n",
    "\n",
    "# matrix shapes\n",
    "N_train, D = X_train.shape\n",
    "N_test, _ = X_test.shape\n",
    "_, M = y_train_one_hot.shape"
   ]
  },
  {
   "cell_type": "markdown",
   "metadata": {},
   "source": [
    "#### Feedforward Neural Network"
   ]
  },
  {
   "cell_type": "code",
   "execution_count": null,
   "metadata": {},
   "outputs": [],
   "source": [
    "# input layer\n",
    "X = Input(shape=(D,), name=\"X\")\n",
    "\n",
    "# Convolution Layer\n",
    "A1 = Dense(16, name=\"A1\")(X)\n",
    "# Non-Linearity\n",
    "Z1 = Activation(\"relu\", name=\"Z1\")(A1)\n",
    "# Affine Layer\n",
    "A2 = Dense(M, name=\"A2\")(Z1)\n",
    "# Multi-Class Classification\n",
    "Y = Activation(\"softmax\", name=\"Y\")(A2)\n",
    "\n",
    "# Define Graph\n",
    "model = Model(inputs=X, outputs=Y)\n",
    "# Compile Graph\n",
    "model.compile(optimizer=RMSprop(lr=0.04),\n",
    "              loss='categorical_crossentropy',\n",
    "              metrics=['accuracy'])\n",
    "# Computational Graph Summary\n",
    "model.summary()"
   ]
  },
  {
   "cell_type": "code",
   "execution_count": null,
   "metadata": {},
   "outputs": [],
   "source": [
    "# model training\n",
    "history = model.fit(X_train, y_train_one_hot, epochs=100, validation_split=0.25, verbose=0)"
   ]
  },
  {
   "cell_type": "markdown",
   "metadata": {},
   "source": [
    "#### Evaluation"
   ]
  },
  {
   "cell_type": "code",
   "execution_count": null,
   "metadata": {},
   "outputs": [],
   "source": [
    "y_hat_one_hot = model.predict(X_test)\n",
    "\n",
    "# one-hot-encoded to raw data\n",
    "y_hat = np.argmax(y_hat_one_hot, axis=1)\n",
    "\n",
    "# confusion matrix\n",
    "cm = confusion_matrix(y_test, y_hat)\n",
    "cm_norm = cm.astype('float') / cm.sum(axis=1)[:, np.newaxis]\n",
    "_, ax = plt.subplots(figsize=(7.0, 6.0))\n",
    "sns.heatmap(cm_norm, annot=True, cmap=plt.cm.Blues, ax=ax)\n",
    "ax.set_xticklabels(iris.target_names, rotation=45)\n",
    "ax.set_yticklabels(iris.target_names, rotation=45)\n",
    "ax.set_title('Iris Dataset Confusion Matrix')\n",
    "ax.set_xlabel('Predicted Class')\n",
    "ax.set_ylabel('True Class');"
   ]
  },
  {
   "cell_type": "markdown",
   "metadata": {},
   "source": [
    "### Fashion MNIST <a class=\"anchor\" id=\"keras:fashion-mnist\"></a>"
   ]
  },
  {
   "cell_type": "code",
   "execution_count": null,
   "metadata": {},
   "outputs": [],
   "source": [
    "%reset -f\n",
    "\n",
    "from keras.models import Model\n",
    "from keras.layers import Input\n",
    "from keras.layers import Dense\n",
    "from keras.layers import Conv2D\n",
    "from keras.layers import Dropout\n",
    "from keras.layers import MaxPooling2D\n",
    "from keras.layers import Flatten\n",
    "from keras.optimizers import RMSprop\n",
    "from keras.utils import to_categorical\n",
    "\n",
    "from keras.datasets import fashion_mnist\n",
    "\n",
    "import numpy as np\n",
    "import matplotlib.pyplot as plt\n",
    "import seaborn as sns\n",
    "\n",
    "from sklearn.metrics import confusion_matrix\n",
    "\n",
    "np.random.seed(0)"
   ]
  },
  {
   "cell_type": "markdown",
   "metadata": {},
   "source": [
    "#### Data & Preprocessing"
   ]
  },
  {
   "cell_type": "code",
   "execution_count": null,
   "metadata": {},
   "outputs": [],
   "source": [
    "# fetch data\n",
    "(X_train_raw, y_train), (X_test_raw, y_test) = fashion_mnist.load_data()\n",
    "# one-hot encode categorical output\n",
    "y_train_one_hot = to_categorical(y_train)\n",
    "y_test_one_hot = to_categorical(y_test)\n",
    "\n",
    "# tensor shape\n",
    "N_train, h, w = X_train_raw.shape\n",
    "N_test, _, _ = X_test_raw.shape\n",
    "_, M = y_train_one_hot.shape\n",
    "\n",
    "# convert raw pixels to tensors\n",
    "X_train = X_train_raw.reshape(-1, h, w, 1)\n",
    "X_test = X_test_raw.reshape(-1, h, w, 1)"
   ]
  },
  {
   "cell_type": "markdown",
   "metadata": {},
   "source": [
    "#### Convolutional Neural Network"
   ]
  },
  {
   "cell_type": "code",
   "execution_count": null,
   "metadata": {},
   "outputs": [],
   "source": [
    "# input layer: shape=(height, width, number of channels)\n",
    "X = Input(shape=(h, w, 1), name=\"X\")\n",
    "\n",
    "# Convolution Layer\n",
    "CONV1 = Conv2D(filters=32, kernel_size=(3, 3), activation=\"relu\", name=\"CONV1\")(X)\n",
    "# Max Pooling Layer\n",
    "POOL1 = MaxPooling2D(pool_size=(2, 2), name=\"POOL1\")(CONV1)\n",
    "# Convolution Layer\n",
    "CONV2 = Conv2D(filters=32, kernel_size=(3, 3), activation=\"relu\", name=\"CONV2\")(POOL1)\n",
    "# Max Pooling Layer\n",
    "POOL2 = MaxPooling2D(pool_size=(2, 2), name=\"POOL2\")(CONV2)\n",
    "# Convolution Layer\n",
    "CONV3 = Conv2D(filters=64, kernel_size=(3, 3), activation=\"relu\", name=\"CONV3\")(POOL2)\n",
    "# Max Pooling Layer\n",
    "POOL3 = MaxPooling2D(pool_size=(2, 2), name=\"POOL3\")(CONV3)\n",
    "# Convert 3D feature map to 1D\n",
    "FLAT = Flatten()(POOL3)\n",
    "# Fully Connected Layer\n",
    "FC1 = Dense(units=64, name=\"FC1\")(FLAT)\n",
    "# Dropout\n",
    "DROP = Dropout(rate=0.5, name=\"DROP\")(FC1)\n",
    "# Multi-Class Classification Output Layer\n",
    "Y = Dense(M, activation=\"softmax\", name=\"Y\")(DROP)\n",
    "\n",
    "# Define Graph\n",
    "model = Model(inputs=X, outputs=Y)\n",
    "# Compile Graph\n",
    "model.compile(optimizer=RMSprop(),\n",
    "              loss='categorical_crossentropy',\n",
    "              metrics=['accuracy'])\n",
    "# Computational Graph Summary\n",
    "model.summary()"
   ]
  },
  {
   "cell_type": "code",
   "execution_count": null,
   "metadata": {},
   "outputs": [],
   "source": [
    "# model training\n",
    "history = model.fit(X_train, y_train_one_hot, batch_size=128, epochs=3, validation_split=0.25, verbose=0)"
   ]
  },
  {
   "cell_type": "markdown",
   "metadata": {},
   "source": [
    "#### Evaluation"
   ]
  },
  {
   "cell_type": "code",
   "execution_count": null,
   "metadata": {},
   "outputs": [],
   "source": [
    "y_hat_one_hot = model.predict(X_test)\n",
    "\n",
    "# one-hot-encoded to raw data\n",
    "y_hat = np.argmax(y_hat_one_hot, axis=1)\n",
    "\n",
    "# confusion matrix\n",
    "cm = confusion_matrix(y_test, y_hat)\n",
    "cm_norm = cm.astype('float') / cm.sum(axis=1)[:, np.newaxis]\n",
    "_, ax = plt.subplots(figsize=(7.0, 6.0))\n",
    "sns.heatmap(cm_norm, annot=True, cmap=plt.cm.Greens, ax=ax)\n",
    "ax.set_title('Fashion MNIST Dataset Confusion Matrix')\n",
    "ax.set_xlabel('Predicted Class')\n",
    "ax.set_ylabel('True Class');"
   ]
  },
  {
   "cell_type": "markdown",
   "metadata": {},
   "source": [
    "### President Trump Generator <a class=\"anchor\" id=\"keras:president-trump-generator\"></a>"
   ]
  },
  {
   "cell_type": "code",
   "execution_count": 1,
   "metadata": {},
   "outputs": [
    {
     "name": "stderr",
     "output_type": "stream",
     "text": [
      "/Users/omega/Developer/icdss/Machine-Learning-API/.env/lib/python3.6/site-packages/h5py/__init__.py:36: FutureWarning: Conversion of the second argument of issubdtype from `float` to `np.floating` is deprecated. In future, it will be treated as `np.float64 == np.dtype(float).type`.\n",
      "  from ._conv import register_converters as _register_converters\n",
      "Using TensorFlow backend.\n"
     ]
    }
   ],
   "source": [
    "%reset -f\n",
    "\n",
    "from keras.models import Sequential\n",
    "from keras.layers import Dense\n",
    "from keras.layers import LSTM\n",
    "from keras.optimizers import Adam\n",
    "from keras.callbacks import ModelCheckpoint\n",
    "\n",
    "from keras.datasets import fashion_mnist\n",
    "\n",
    "import numpy as np\n",
    "\n",
    "np.random.seed(0)"
   ]
  },
  {
   "cell_type": "markdown",
   "metadata": {},
   "source": [
    "#### Data & Preprocessing"
   ]
  },
  {
   "cell_type": "code",
   "execution_count": 2,
   "metadata": {},
   "outputs": [
    {
     "name": "stdout",
     "output_type": "stream",
     "text": [
      "Loaded a corpus of 132087 characters\n",
      "Our corpus contains 86 unique characters.\n",
      "Sliced our corpus into 132037 sentences of length 50\n",
      "Vectorizing X and y...\n",
      "Sanity check y. Dimension: (132037, 86) # Sentences: 132037 Characters in corpus: 86\n",
      "Sanity check X. Dimension: (132037, 50, 86) Sentence length: 50\n"
     ]
    }
   ],
   "source": [
    "# fetch data\n",
    "with open(\"data/trump/speeches.txt\") as corpus_file:\n",
    "    corpus = corpus_file.read()\n",
    "print(\"Loaded a corpus of {0} characters\".format(len(corpus)))\n",
    "corpus_length = len(corpus)\n",
    "\n",
    "# Get a unique identifier for each char in the corpus\n",
    "# then make some dicts to ease encoding and decoding\n",
    "chars = sorted(list(set(corpus)))\n",
    "num_chars = len(chars)\n",
    "encoding = {c: i for i, c in enumerate(chars)}\n",
    "decoding = {i: c for i, c in enumerate(chars)}\n",
    "print(\"Our corpus contains {0} unique characters.\".format(num_chars))\n",
    "\n",
    "# it slices, it dices, it makes julienned datasets!\n",
    "# chop up our data into X and y, slice into roughly (num_chars / skip) overlapping 'sentences'\n",
    "# of length sentence_length, and encode the chars\n",
    "sentence_length = 50\n",
    "skip = 1\n",
    "X_data = []\n",
    "y_data = []\n",
    "for i in range (0, len(corpus) - sentence_length, skip):\n",
    "    sentence = corpus[i:i + sentence_length]\n",
    "    next_char = corpus[i + sentence_length]\n",
    "    X_data.append([encoding[char] for char in sentence])\n",
    "    y_data.append(encoding[next_char])\n",
    "\n",
    "num_sentences = len(X_data)\n",
    "print(\"Sliced our corpus into {0} sentences of length {1}\".format(num_sentences, sentence_length))\n",
    "\n",
    "# Vectorize our data and labels. We want everything in one-hot\n",
    "# because smart data encoding cultivates phronesis and virtue.\n",
    "print(\"Vectorizing X and y...\")\n",
    "X = np.zeros((num_sentences, sentence_length, num_chars), dtype=np.bool)\n",
    "y = np.zeros((num_sentences, num_chars), dtype=np.bool)\n",
    "for i, sentence in enumerate(X_data):\n",
    "    for t, encoded_char in enumerate(sentence):\n",
    "        X[i, t, encoded_char] = 1\n",
    "    y[i, y_data[i]] = 1\n",
    "\n",
    "# Double check our vectorized data before we sink hours into fitting a model\n",
    "print(\"Sanity check y. Dimension: {0} # Sentences: {1} Characters in corpus: {2}\".format(y.shape, num_sentences, len(chars)))\n",
    "print(\"Sanity check X. Dimension: {0} Sentence length: {1}\".format(X.shape, sentence_length))"
   ]
  },
  {
   "cell_type": "markdown",
   "metadata": {},
   "source": [
    "#### Recurrent Neural Network"
   ]
  },
  {
   "cell_type": "code",
   "execution_count": 3,
   "metadata": {},
   "outputs": [
    {
     "name": "stdout",
     "output_type": "stream",
     "text": [
      "_________________________________________________________________\n",
      "Layer (type)                 Output Shape              Param #   \n",
      "=================================================================\n",
      "LSTM (LSTM)                  (None, 256)               351232    \n",
      "_________________________________________________________________\n",
      "Y (Dense)                    (None, 86)                22102     \n",
      "=================================================================\n",
      "Total params: 373,334\n",
      "Trainable params: 373,334\n",
      "Non-trainable params: 0\n",
      "_________________________________________________________________\n"
     ]
    }
   ],
   "source": [
    "model = Sequential()\n",
    "model.add(LSTM(units=256, input_shape=(sentence_length, num_chars), name=\"LSTM\"))\n",
    "model.add(Dense(units=num_chars, activation=\"softmax\", name=\"Y\"))\n",
    "\n",
    "# Compile Graph\n",
    "model.compile(optimizer=Adam(),\n",
    "              loss='categorical_crossentropy')\n",
    "# Computational Graph Summary\n",
    "model.summary()"
   ]
  },
  {
   "cell_type": "code",
   "execution_count": 5,
   "metadata": {},
   "outputs": [],
   "source": [
    "# remove this line to train the model again\n",
    "if None:\n",
    "    # Dump our model architecture to a file so we can load it elsewhere\n",
    "    architecture = model.to_yaml()\n",
    "    with open('models/trump.yaml', 'a') as model_file:\n",
    "        model_file.write(architecture)\n",
    "\n",
    "    # Set up checkpoints\n",
    "    file_path=\"models/trump-weights-{epoch:02d}-{loss:.3f}.hdf5\"\n",
    "    checkpoint = ModelCheckpoint(file_path, monitor=\"loss\", verbose=1, save_best_only=True, mode=\"min\")\n",
    "    callbacks = [checkpoint]\n",
    "\n",
    "    # model training\n",
    "    history = model.fit(X, y, epochs=30, batch_size=256, callbacks=callbacks)\n",
    "else:\n",
    "    # load weights from checkpoint\n",
    "    model.load_weights(\"models/trump-weights-03-2.152.hdf5\")"
   ]
  },
  {
   "cell_type": "markdown",
   "metadata": {},
   "source": [
    "#### Helper Functions"
   ]
  },
  {
   "cell_type": "code",
   "execution_count": 6,
   "metadata": {},
   "outputs": [],
   "source": [
    "def generate(seed_pattern):\n",
    "    X = np.zeros((1, sentence_length, num_chars), dtype=np.bool)\n",
    "    for i, character in enumerate(seed_pattern):\n",
    "        X[0, i, encoding[character]] = 1\n",
    "\n",
    "    generated_text = \"\"\n",
    "    for i in range(10):\n",
    "        prediction = np.argmax(model.predict(X, verbose=0))\n",
    "\n",
    "        generated_text += decoding[prediction]\n",
    "\n",
    "        activations = np.zeros((1, 1, num_chars), dtype=np.bool)\n",
    "        activations[0, 0, prediction] = 1\n",
    "        X = np.concatenate((X[:, 1:, :], activations), axis=1)\n",
    "\n",
    "    return generated_text\n",
    "\n",
    "def make_seed(seed_phrase=\"\"):\n",
    "    if seed_phrase:\n",
    "        phrase_length = len(seed_phrase)\n",
    "        pattern = \"\"\n",
    "        for i in range (0, sentence_length):\n",
    "            pattern += seed_phrase[i % phrase_length]\n",
    "    else:\n",
    "        seed = randint(0, corpus_length - sentence_length)\n",
    "        pattern = corpus[seed:seed + sentence_length]\n",
    "\n",
    "    return pattern"
   ]
  },
  {
   "cell_type": "markdown",
   "metadata": {},
   "source": [
    "#### Evaluation"
   ]
  },
  {
   "cell_type": "code",
   "execution_count": 7,
   "metadata": {},
   "outputs": [
    {
     "data": {
      "text/plain": [
       "'be the wall'"
      ]
     },
     "execution_count": 7,
     "metadata": {},
     "output_type": "execute_result"
    }
   ],
   "source": [
    "# seed letter\n",
    "seed = \"b\"\n",
    "# prediction\n",
    "seed + generate(make_seed(seed))"
   ]
  },
  {
   "cell_type": "markdown",
   "metadata": {},
   "source": [
    "## `fbprophet` <a class=\"anchor\" id=\"fbprophet\"></a>"
   ]
  },
  {
   "cell_type": "code",
   "execution_count": 25,
   "metadata": {},
   "outputs": [],
   "source": [
    "%reset -f\n",
    "\n",
    "from fbprophet import Prophet\n",
    "\n",
    "import pandas_datareader.data as web\n",
    "\n",
    "import numpy as np\n",
    "import pandas as pd\n",
    "import matplotlib.pyplot as plt\n",
    "import seaborn as sns\n",
    "\n",
    "np.random.seed(0)"
   ]
  },
  {
   "cell_type": "markdown",
   "metadata": {},
   "source": [
    "#### Data & Preprocessing"
   ]
  },
  {
   "cell_type": "code",
   "execution_count": 26,
   "metadata": {},
   "outputs": [
    {
     "data": {
      "text/html": [
       "<div>\n",
       "<style scoped>\n",
       "    .dataframe tbody tr th:only-of-type {\n",
       "        vertical-align: middle;\n",
       "    }\n",
       "\n",
       "    .dataframe tbody tr th {\n",
       "        vertical-align: top;\n",
       "    }\n",
       "\n",
       "    .dataframe thead th {\n",
       "        text-align: right;\n",
       "    }\n",
       "</style>\n",
       "<table border=\"1\" class=\"dataframe\">\n",
       "  <thead>\n",
       "    <tr style=\"text-align: right;\">\n",
       "      <th></th>\n",
       "      <th>ds</th>\n",
       "      <th>y</th>\n",
       "    </tr>\n",
       "  </thead>\n",
       "  <tbody>\n",
       "    <tr>\n",
       "      <th>0</th>\n",
       "      <td>2018-03-04</td>\n",
       "      <td>4.449157e+07</td>\n",
       "    </tr>\n",
       "    <tr>\n",
       "      <th>1</th>\n",
       "      <td>2018-03-03</td>\n",
       "      <td>5.650515e+07</td>\n",
       "    </tr>\n",
       "    <tr>\n",
       "      <th>2</th>\n",
       "      <td>2018-03-02</td>\n",
       "      <td>6.330346e+07</td>\n",
       "    </tr>\n",
       "    <tr>\n",
       "      <th>3</th>\n",
       "      <td>2018-03-01</td>\n",
       "      <td>8.574683e+07</td>\n",
       "    </tr>\n",
       "    <tr>\n",
       "      <th>4</th>\n",
       "      <td>2018-02-28</td>\n",
       "      <td>8.817605e+07</td>\n",
       "    </tr>\n",
       "  </tbody>\n",
       "</table>\n",
       "</div>"
      ],
      "text/plain": [
       "          ds             y\n",
       "0 2018-03-04  4.449157e+07\n",
       "1 2018-03-03  5.650515e+07\n",
       "2 2018-03-02  6.330346e+07\n",
       "3 2018-03-01  8.574683e+07\n",
       "4 2018-02-28  8.817605e+07"
      ]
     },
     "execution_count": 26,
     "metadata": {},
     "output_type": "execute_result"
    }
   ],
   "source": [
    "# fetch data\n",
    "btc = web.DataReader(\"BCHARTS/KRAKENUSD\", data_source=\"quandl\").dropna()\n",
    "\n",
    "# time-series DataFrame\n",
    "df = pd.DataFrame(columns=[\"ds\", \"y\"])\n",
    "df[\"ds\"] = btc.index\n",
    "# market capital column\n",
    "df[\"y\"] = (btc[\"Close\"] * btc[\"VolumeBTC\"]).values\n",
    "\n",
    "df.head()"
   ]
  },
  {
   "cell_type": "markdown",
   "metadata": {},
   "source": [
    "#### MAP Optimization and Hamiltonian Monte Carlo Inference"
   ]
  },
  {
   "cell_type": "code",
   "execution_count": 27,
   "metadata": {},
   "outputs": [
    {
     "name": "stderr",
     "output_type": "stream",
     "text": [
      "INFO:fbprophet.forecaster:Disabling daily seasonality. Run prophet with daily_seasonality=True to override this.\n",
      "/Users/omega/Developer/icdss/Machine-Learning-API/.env/lib/python3.6/site-packages/pystan/misc.py:399: FutureWarning: Conversion of the second argument of issubdtype from `float` to `np.floating` is deprecated. In future, it will be treated as `np.float64 == np.dtype(float).type`.\n",
      "  elif np.issubdtype(np.asarray(v).dtype, float):\n"
     ]
    }
   ],
   "source": [
    "# define model\n",
    "model = Prophet()\n",
    "\n",
    "# train model\n",
    "model.fit(df);"
   ]
  },
  {
   "cell_type": "markdown",
   "metadata": {},
   "source": [
    "#### Evaluation"
   ]
  },
  {
   "cell_type": "code",
   "execution_count": 29,
   "metadata": {},
   "outputs": [
    {
     "data": {
      "image/png": "[encoded data removed]",
      "text/plain": [
       "<matplotlib.figure.Figure at 0x1265c19b0>"
      ]
     },
     "metadata": {},
     "output_type": "display_data"
    },
    {
     "data": {
      "image/png": "[encoded data removed]",
      "text/plain": [
       "<matplotlib.figure.Figure at 0x1190ffc88>"
      ]
     },
     "metadata": {},
     "output_type": "display_data"
    }
   ],
   "source": [
    "\n",
    "future = model.make_future_dataframe(periods=365)\n",
    "forecast = model.predict(future)\n",
    "\n",
    "# generate plots\n",
    "model.plot(forecast);\n",
    "model.plot_components(forecast);"
   ]
  },
  {
   "cell_type": "markdown",
   "metadata": {},
   "source": [
    "## Disclaimer\n",
    "\n",
    "Presentations are intended for educational purposes only and do not replace independent professional judgment.\n",
    "Statements of fact and opinions expressed are those of the participants individually and,\n",
    "unless expressly stated to the contrary, are not the opinion or position of the ICDSS, its cosponsors, or its committees.\n",
    "The ICDSS does not endorse or approve, and assumes no responsibility for, the content,\n",
    "accuracy or completeness of the information presented.\n",
    "Attendees should note that sessions are video-recorded and may be published in various media, including print,\n",
    "audio and video formats without further notice."
   ]
  }
 ],
 "metadata": {
  "kernelspec": {
   "display_name": "Python 3",
   "language": "python",
   "name": "python3"
  },
  "language_info": {
   "codemirror_mode": {
    "name": "ipython",
    "version": 3
   },
   "file_extension": ".py",
   "mimetype": "text/x-python",
   "name": "python",
   "nbconvert_exporter": "python",
   "pygments_lexer": "ipython3",
   "version": "3.6.4"
  }
 },
 "nbformat": 4,
 "nbformat_minor": 2
}
